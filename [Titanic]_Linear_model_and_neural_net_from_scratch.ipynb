{
  "nbformat": 4,
  "nbformat_minor": 0,
  "metadata": {
    "colab": {
      "provenance": [],
      "authorship_tag": "ABX9TyNZZ7V/J0aMH4qK9cg3K24w",
      "include_colab_link": true
    },
    "kernelspec": {
      "name": "python3",
      "display_name": "Python 3"
    },
    "language_info": {
      "name": "python"
    }
  },
  "cells": [
    {
      "cell_type": "markdown",
      "metadata": {
        "id": "view-in-github",
        "colab_type": "text"
      },
      "source": [
        "<a href=\"https://colab.research.google.com/github/denncraft/Primers/blob/master/%5BTitanic%5D_Linear_model_and_neural_net_from_scratch.ipynb\" target=\"_parent\"><img src=\"https://colab.research.google.com/assets/colab-badge.svg\" alt=\"Open In Colab\"/></a>"
      ]
    },
    {
      "cell_type": "code",
      "source": [
        "import os\n",
        "from pathlib import Path\n",
        "import json\n",
        "import torch, numpy as np, pandas as pd\n",
        "import numpy as np\n",
        "from torch import tensor\n",
        "from fastai.data.transforms import RandomSplitter\n",
        "\n",
        "\n",
        "path = Path('sample_data')\n",
        "np.set_printoptions(linewidth=200)\n",
        "torch.set_printoptions(linewidth=200, sci_mode=False, edgeitems=7)\n",
        "torch_seed = 442\n",
        "pd.set_option('display.width', 200)\n"
      ],
      "metadata": {
        "id": "r1Xvc5a-pAkf"
      },
      "execution_count": 593,
      "outputs": []
    },
    {
      "cell_type": "code",
      "source": [
        "def prepare_data(data):\n",
        "  modes = data.mode().iloc[0]\n",
        "  data.fillna(modes, inplace=True)\n",
        "  data.isna().sum()\n",
        "\n",
        "  data['LogFare'] = np.log(data['Fare']+1)\n",
        "\n",
        "  data = pd.get_dummies(data, columns=[\"Sex\",\"Pclass\",\"Embarked\"])\n",
        "  indep_cols = ['Age', 'SibSp', 'LogFare'] + data.filter(regex='.*_.*').columns.to_list()\n",
        "  return data, indep_cols\n",
        "\n",
        "df, indep_cols = prepare_data(pd.read_csv(path/'train.csv'))"
      ],
      "metadata": {
        "id": "8CbAay3Ir98x"
      },
      "execution_count": 594,
      "outputs": []
    },
    {
      "cell_type": "code",
      "source": [
        "t_dep = tensor(df.Survived)\n",
        "t_indep = tensor(df[indep_cols].values, dtype=torch.float)"
      ],
      "metadata": {
        "id": "Ubs2CQZIsQ2s"
      },
      "execution_count": 595,
      "outputs": []
    },
    {
      "cell_type": "code",
      "source": [
        "torch.manual_seed(torch_seed)\n",
        "n_coeff = t_indep.shape[1]\n",
        "coeffs = torch.rand(n_coeff)-0.5\n",
        "t_indep*coeffs\n",
        "vals,_ = t_indep.max(dim=0)\n",
        "t_indep = t_indep / vals\n",
        "preds = (t_indep * coeffs).sum(axis=1)\n",
        "loss = torch.abs(preds - t_dep).mean()"
      ],
      "metadata": {
        "id": "zbOAaKCh41BW"
      },
      "execution_count": 596,
      "outputs": []
    },
    {
      "cell_type": "code",
      "source": [
        "def calc_preds(coeffs, indeps): return (indeps*coeffs).sum(axis=1)\n",
        "def calc_loss(coeffs, indeps, deps): return torch.abs(calc_preds(coeffs, indeps)-deps).mean()"
      ],
      "metadata": {
        "id": "rukobBIWzyFO"
      },
      "execution_count": 597,
      "outputs": []
    },
    {
      "cell_type": "code",
      "source": [
        "coeffs.requires_grad_()\n",
        "loss = calc_loss(coeffs, t_indep, t_dep)\n",
        "loss.backward()\n",
        "\n",
        "with torch.no_grad():\n",
        "    coeffs.sub_(coeffs.grad * 0.1)\n",
        "    coeffs.grad.zero_()\n",
        "    print(calc_loss(coeffs, t_indep, t_dep))"
      ],
      "metadata": {
        "colab": {
          "base_uri": "https://localhost:8080/"
        },
        "id": "gYiqsEGSzkF5",
        "outputId": "4834f982-c2a2-4738-dfb7-cef0bef04188"
      },
      "execution_count": 598,
      "outputs": [
        {
          "output_type": "stream",
          "name": "stdout",
          "text": [
            "tensor(0.5447)\n"
          ]
        }
      ]
    },
    {
      "cell_type": "code",
      "source": [
        "splitter_proportion = 0.15\n",
        "splitter_seed=42\n",
        "\n",
        "train_split, validation_split=RandomSplitter(valid_pct=splitter_proportion, seed=splitter_seed)(df)\n",
        "\n",
        "trn_indep = t_indep[train_split]\n",
        "trn_dep   = t_dep[train_split]\n",
        "\n",
        "val_indep = t_indep[validation_split]\n",
        "val_dep   = t_dep[validation_split]\n",
        "# len(trn_indep), len(val_indep)"
      ],
      "metadata": {
        "id": "7YNUugzy3xeF"
      },
      "execution_count": 599,
      "outputs": []
    },
    {
      "cell_type": "code",
      "source": [
        "def init_coeffs(): return (torch.rand(n_coeff)-0.5).requires_grad_()\n",
        "\n",
        "def update_coeffs(coeffs, lr):\n",
        "    coeffs.sub_(coeffs.grad * lr)\n",
        "    coeffs.grad.zero_()\n",
        "\n",
        "def one_epoch(coeffs, lr):\n",
        "    loss = calc_loss(coeffs, trn_indep, trn_dep)\n",
        "    loss.backward()\n",
        "    with torch.no_grad(): update_coeffs(coeffs, lr)\n",
        "    print(f\"{loss:.3f}\", end=\"; \")\n",
        "    return loss\n",
        "\n",
        "def train_model(epochs=30, lr=0.01):\n",
        "    torch.manual_seed(torch_seed)\n",
        "    coeffs = init_coeffs()\n",
        "    for i in range(epochs):\n",
        "      loss = one_epoch(coeffs, lr=lr)\n",
        "    return coeffs, loss\n",
        "\n",
        "def show_coeffs(): return dict(zip(indep_cols, coeffs.requires_grad_(False)))\n",
        "\n",
        "coeffs, last_loss = train_model(epochs=30, lr=0.5)\n",
        "# show_coeffs()\n",
        "coeffs_for_test = coeffs\n",
        "coeffs"
      ],
      "metadata": {
        "colab": {
          "base_uri": "https://localhost:8080/"
        },
        "id": "SW7BO9qk4bjo",
        "outputId": "2a2077f5-541a-4d35-8f62-8b838f7139e9"
      },
      "execution_count": 600,
      "outputs": [
        {
          "output_type": "stream",
          "name": "stdout",
          "text": [
            "0.561; 0.478; 0.411; 0.362; 0.393; 0.342; 0.407; 0.403; 0.484; 0.375; 0.399; 0.306; 0.368; 0.379; 0.517; 0.349; 0.421; 0.331; 0.411; 0.356; 0.508; 0.344; 0.423; 0.303; 0.381; 0.378; 0.521; 0.339; 0.447; 0.314; "
          ]
        },
        {
          "output_type": "execute_result",
          "data": {
            "text/plain": [
              "tensor([-0.2222, -0.0718,  0.4525,  0.2448, -0.2408,  0.3410,  0.3148,  0.3241,  0.2086,  0.0780,  0.2578], requires_grad=True)"
            ]
          },
          "metadata": {},
          "execution_count": 600
        }
      ]
    },
    {
      "cell_type": "code",
      "source": [
        "threshold = 1-last_loss\n",
        "\n",
        "def acc(coeffs): return (val_dep.bool()==(calc_preds(coeffs, val_indep)>threshold)).float().mean()\n",
        "acc(coeffs)"
      ],
      "metadata": {
        "colab": {
          "base_uri": "https://localhost:8080/"
        },
        "id": "TjEomlqh8dcI",
        "outputId": "4704013a-d865-4029-b709-26f34a1f3bac"
      },
      "execution_count": 601,
      "outputs": [
        {
          "output_type": "execute_result",
          "data": {
            "text/plain": [
              "tensor(0.8195)"
            ]
          },
          "metadata": {},
          "execution_count": 601
        }
      ]
    },
    {
      "cell_type": "code",
      "source": [
        "import sympy\n",
        "sympy.plot(\"1/(1+exp(-x))\", xlim=(-5,5));"
      ],
      "metadata": {
        "colab": {
          "base_uri": "https://localhost:8080/",
          "height": 484
        },
        "id": "o2_81klY9hav",
        "outputId": "facb2447-f192-4cb6-f269-80796c7d6c61"
      },
      "execution_count": 602,
      "outputs": [
        {
          "output_type": "display_data",
          "data": {
            "text/plain": [
              "<Figure size 640x480 with 1 Axes>"
            ],
            "image/png": "[encoded data removed]"
          },
          "metadata": {}
        }
      ]
    },
    {
      "cell_type": "code",
      "source": [
        "def calc_preds(coeffs, indeps): return torch.sigmoid((indeps*coeffs).sum(axis=1))\n",
        "coeffs, _ = train_model(6, lr=100)\n",
        "acc(coeffs)"
      ],
      "metadata": {
        "colab": {
          "base_uri": "https://localhost:8080/"
        },
        "id": "6QD0its-9r5U",
        "outputId": "07c62314-0a4b-4a2b-9978-0f7a022e7bb9"
      },
      "execution_count": 603,
      "outputs": [
        {
          "output_type": "stream",
          "name": "stdout",
          "text": [
            "0.514; 0.325; 0.268; 0.209; 0.204; 0.201; "
          ]
        },
        {
          "output_type": "execute_result",
          "data": {
            "text/plain": [
              "tensor(0.8346)"
            ]
          },
          "metadata": {},
          "execution_count": 603
        }
      ]
    },
    {
      "cell_type": "code",
      "source": [
        "show_coeffs()"
      ],
      "metadata": {
        "colab": {
          "base_uri": "https://localhost:8080/"
        },
        "id": "mV6a-R2Z-HoG",
        "outputId": "cbcc8e16-2aed-4244-af80-25274e720f43"
      },
      "execution_count": 604,
      "outputs": [
        {
          "output_type": "execute_result",
          "data": {
            "text/plain": [
              "{'Age': tensor(-1.4033),\n",
              " 'SibSp': tensor(-0.5337),\n",
              " 'LogFare': tensor(0.8492),\n",
              " 'Sex_female': tensor(7.5921),\n",
              " 'Sex_male': tensor(-9.9387),\n",
              " 'Pclass_1': tensor(3.1833),\n",
              " 'Pclass_2': tensor(2.0097),\n",
              " 'Pclass_3': tensor(-6.5637),\n",
              " 'Embarked_C': tensor(1.1294),\n",
              " 'Embarked_Q': tensor(0.0619),\n",
              " 'Embarked_S': tensor(-2.9975)}"
            ]
          },
          "metadata": {},
          "execution_count": 604
        }
      ]
    },
    {
      "cell_type": "code",
      "source": [
        "def calc_preds(coeffs, indeps): return torch.sigmoid(indeps@coeffs)\n",
        "def init_coeffs(): return (torch.rand(n_coeff, 1)-0.5).requires_grad_()\n",
        "\n",
        "trn_dep = trn_dep[:,None]\n",
        "val_dep = val_dep[:,None]\n",
        "\n",
        "coeffs, _ = train_model(6, lr=100)\n",
        "acc(coeffs)"
      ],
      "metadata": {
        "colab": {
          "base_uri": "https://localhost:8080/"
        },
        "id": "nacfevBp-MVq",
        "outputId": "a95a38fb-b54c-467d-fb2f-5f4744e6a911"
      },
      "execution_count": 605,
      "outputs": [
        {
          "output_type": "stream",
          "name": "stdout",
          "text": [
            "0.514; 0.325; 0.268; 0.209; 0.204; 0.201; "
          ]
        },
        {
          "output_type": "execute_result",
          "data": {
            "text/plain": [
              "tensor(0.8346)"
            ]
          },
          "metadata": {},
          "execution_count": 605
        }
      ]
    },
    {
      "cell_type": "code",
      "source": [
        "show_coeffs()"
      ],
      "metadata": {
        "colab": {
          "base_uri": "https://localhost:8080/"
        },
        "id": "iQDB_Mc--nBQ",
        "outputId": "443f067b-75f9-4091-d5e7-5ff4787773cf"
      },
      "execution_count": 606,
      "outputs": [
        {
          "output_type": "execute_result",
          "data": {
            "text/plain": [
              "{'Age': tensor([-1.4033]),\n",
              " 'SibSp': tensor([-0.5337]),\n",
              " 'LogFare': tensor([0.8492]),\n",
              " 'Sex_female': tensor([7.5921]),\n",
              " 'Sex_male': tensor([-9.9387]),\n",
              " 'Pclass_1': tensor([3.1833]),\n",
              " 'Pclass_2': tensor([2.0097]),\n",
              " 'Pclass_3': tensor([-6.5637]),\n",
              " 'Embarked_C': tensor([1.1294]),\n",
              " 'Embarked_Q': tensor([0.0619]),\n",
              " 'Embarked_S': tensor([-2.9975])}"
            ]
          },
          "metadata": {},
          "execution_count": 606
        }
      ]
    },
    {
      "cell_type": "code",
      "source": [
        "sympy.plot(\"max(0,x)\", xlim=(-5,5));"
      ],
      "metadata": {
        "colab": {
          "base_uri": "https://localhost:8080/",
          "height": 484
        },
        "id": "KuV29Zpk_ndT",
        "outputId": "aa387275-f29a-49d2-a96c-27c6573f2601"
      },
      "execution_count": 607,
      "outputs": [
        {
          "output_type": "display_data",
          "data": {
            "text/plain": [
              "<Figure size 640x480 with 1 Axes>"
            ],
            "image/png": "[encoded data removed]"
          },
          "metadata": {}
        }
      ]
    },
    {
      "cell_type": "code",
      "source": [
        "import torch.nn.functional as F\n",
        "hidden_layer_size = 20\n",
        "magic_const1 = 0.5\n",
        "magic_const2 = 0.3\n",
        "\n",
        "def init_coeffs(n_hidden=20):\n",
        "    layer1 = (torch.rand(n_coeff, n_hidden)-magic_const1)/n_hidden\n",
        "    layer2 = torch.rand(n_hidden, 1)-magic_const2\n",
        "    const = torch.rand(1)[0]\n",
        "    return layer1.requires_grad_(),layer2.requires_grad_(),const.requires_grad_()\n",
        "\n",
        "def calc_preds(coeffs, indeps):\n",
        "    l1,l2,const = coeffs\n",
        "    res = F.relu(indeps@l1)\n",
        "    res = res@l2 + const\n",
        "    return torch.sigmoid(res)\n",
        "\n",
        "def update_coeffs(coeffs, lr):\n",
        "    for layer in coeffs:\n",
        "        layer.sub_(layer.grad * lr)\n",
        "        layer.grad.zero_()\n",
        "\n",
        "def train_model(epochs=30, lr=0.01, hls=20):\n",
        "    torch.manual_seed(torch_seed)\n",
        "    coeffs = init_coeffs(hls)\n",
        "    for i in range(epochs):\n",
        "      one_epoch(coeffs, lr=lr)\n",
        "    return coeffs\n",
        "\n",
        "coeffs = train_model(lr=100, hls=hidden_layer_size)\n",
        "acc(coeffs)"
      ],
      "metadata": {
        "colab": {
          "base_uri": "https://localhost:8080/"
        },
        "id": "w5yGF0rt_aMD",
        "outputId": "a25e3b00-776e-4adf-fda2-1f1138096b32"
      },
      "execution_count": 608,
      "outputs": [
        {
          "output_type": "stream",
          "name": "stdout",
          "text": [
            "0.550; 0.358; 0.583; 0.333; 0.224; 0.214; 0.331; 0.227; 0.546; 0.219; 0.219; 0.219; 0.219; 0.219; 0.219; 0.219; 0.219; 0.219; 0.219; 0.219; 0.219; 0.219; 0.219; 0.219; 0.219; 0.219; 0.219; 0.219; 0.219; 0.219; "
          ]
        },
        {
          "output_type": "execute_result",
          "data": {
            "text/plain": [
              "tensor(0.8195)"
            ]
          },
          "metadata": {},
          "execution_count": 608
        }
      ]
    },
    {
      "cell_type": "code",
      "source": [
        "import torch.nn.functional as F\n",
        "\n",
        "def init_coeffs():\n",
        "    hiddens = [10, 10]                # <-- установите размер каждого скрытого слоя\n",
        "    sizes = [n_coeff] + hiddens + [1] # --> [11, 10, 10, 1]\n",
        "    n = len(sizes)                    # --> 4\n",
        "    layers = [(torch.rand(sizes[i], sizes[i+1])-0.3)/sizes[i+1]*4 for i in range(n-1)]\n",
        "    consts = [(torch.rand(1)[0]-0.5)*0.1 for i in range(n-1)]\n",
        "    for l in layers+consts: l.requires_grad_()\n",
        "    return layers,consts\n",
        "\n",
        "def calc_preds(coeffs, indeps):\n",
        "    layers,consts = coeffs\n",
        "    n = len(layers)\n",
        "    res = indeps\n",
        "    for i,l in enumerate(layers):\n",
        "        res = res@l + consts[i]\n",
        "        if i!=n-1: res = F.relu(res)\n",
        "    return torch.sigmoid(res)\n",
        "\n",
        "def update_coeffs(coeffs, lr):\n",
        "    layers,consts = coeffs\n",
        "    for layer in layers+consts:\n",
        "        layer.sub_(layer.grad * lr)\n",
        "        layer.grad.zero_()\n",
        "\n",
        "def train_model(epochs=30, lr=0.01):\n",
        "    torch.manual_seed(torch_seed)\n",
        "    coeffs = init_coeffs()\n",
        "    for i in range(epochs):\n",
        "      one_epoch(coeffs, lr=lr)\n",
        "    return coeffs\n",
        "\n",
        "coeffs = train_model(lr=0.5)\n",
        "acc(coeffs)"
      ],
      "metadata": {
        "colab": {
          "base_uri": "https://localhost:8080/"
        },
        "id": "txoLdSGL_2gE",
        "outputId": "13974a9a-cbba-48db-b41d-1b1d5991e9d9"
      },
      "execution_count": 609,
      "outputs": [
        {
          "output_type": "stream",
          "name": "stdout",
          "text": [
            "0.550; 0.474; 0.441; 0.411; 0.387; 0.365; 0.344; 0.323; 0.296; 0.274; 0.260; 0.250; 0.243; 0.239; 0.235; 0.232; 0.230; 0.228; 0.226; 0.224; 0.223; 0.222; 0.220; 0.219; 0.218; 0.217; 0.216; 0.215; 0.214; 0.214; "
          ]
        },
        {
          "output_type": "execute_result",
          "data": {
            "text/plain": [
              "tensor(0.8346)"
            ]
          },
          "metadata": {},
          "execution_count": 609
        }
      ]
    },
    {
      "cell_type": "code",
      "source": [
        "df_test = pd.read_csv(path/'test.csv')\n",
        "df_surv = pd.read_csv(path/'test_survived.csv')\n",
        "df_test, indep_cols = prepare_data(df_test)\n",
        "\n",
        "t_dep = tensor(df_surv.Survived)\n",
        "t_indep = tensor(df_test[indep_cols].values, dtype=torch.float)\n",
        "vals,_ = t_indep.max(dim=0)\n",
        "t_indep = t_indep / vals\n",
        "\n",
        "# coeffs = torch.tensor([-0.2222, -0.0718,  0.4525,  0.2448, -0.2408,  0.3410,  0.3148,  0.3241,  0.2086,  0.0780,  0.2578])\n",
        "print(threshold, coeffs_for_test)"
      ],
      "metadata": {
        "colab": {
          "base_uri": "https://localhost:8080/"
        },
        "id": "EVZvQhjHEm22",
        "outputId": "21d58acc-5d8f-4dcb-ef82-0f70ab1f2b5f"
      },
      "execution_count": 619,
      "outputs": [
        {
          "output_type": "stream",
          "name": "stdout",
          "text": [
            "tensor(0.6863, grad_fn=<RsubBackward1>) tensor([-0.2222, -0.0718,  0.4525,  0.2448, -0.2408,  0.3410,  0.3148,  0.3241,  0.2086,  0.0780,  0.2578], requires_grad=True)\n"
          ]
        }
      ]
    },
    {
      "cell_type": "code",
      "source": [
        "def calc_preds(coeffs, indeps): return torch.sigmoid((indeps*coeffs).sum(axis=1))\n",
        "calc_preds(coeffs_for_test, t_indep)"
      ],
      "metadata": {
        "colab": {
          "base_uri": "https://localhost:8080/"
        },
        "id": "T79FSwnlOcpY",
        "outputId": "8c7829a3-b6ce-49fa-f7f6-fec08ea7d083"
      },
      "execution_count": 611,
      "outputs": [
        {
          "output_type": "execute_result",
          "data": {
            "text/plain": [
              "tensor([0.5544, 0.6966, 0.5355, 0.6051, 0.7193, 0.6151, 0.6716, 0.6209, 0.7064, 0.6214, 0.6078, 0.6136, 0.7480, 0.5933, 0.7304, 0.7176, 0.5591, 0.5947, 0.7104, 0.6897, 0.6074, 0.6031, 0.7379, 0.6335,\n",
              "        0.7406, 0.5950, 0.7370, 0.5936, 0.6197, 0.6080, 0.6024, 0.6215, 0.7199, 0.7287, 0.6242, 0.5964, 0.7161, 0.7170, 0.6079, 0.6396, 0.5918, 0.6311, 0.5937, 0.7153, 0.7294, 0.6051, 0.6048, 0.5639,\n",
              "        0.7179, 0.7164, 0.6403, 0.5999, 0.7254, 0.7575, 0.6046, 0.5849, 0.5980, 0.6045, 0.6169, 0.7490, 0.6106, 0.6064, 0.6096, 0.6769, 0.6586, 0.7271, 0.6798, 0.6210, 0.6139, 0.7433, 0.6757, 0.6078,\n",
              "        0.7111, 0.6151, 0.7466, 0.6462, 0.6081, 0.7116, 0.6072, 0.6757, 0.6148, 0.6330, 0.6115, 0.6078, 0.5668, 0.6035, 0.6740, 0.7178, 0.6776, 0.6335, 0.7210, 0.6076, 0.7395, 0.6081, 0.6165, 0.6048,\n",
              "        0.7171, 0.6023, 0.7163, 0.5997, 0.7215, 0.6184, 0.5639, 0.6041, 0.7079, 0.6197, 0.5641, 0.5639, 0.6093, 0.6151, 0.5900, 0.6777, 0.7195, 0.6783, 0.7393, 0.6056, 0.5929, 0.7356, 0.6266, 0.7236,\n",
              "        0.7284, 0.5617, 0.7268, 0.6016, 0.5639, 0.7277, 0.6069, 0.6897, 0.5988, 0.6060, 0.6004, 0.5985, 0.7316, 0.5907, 0.5924, 0.6056, 0.5908, 0.6099, 0.7149, 0.6214, 0.7375, 0.7524, 0.6284, 0.6198,\n",
              "        0.6167, 0.6075, 0.6420, 0.6074, 0.6311, 0.6163, 0.7405, 0.5960, 0.5797, 0.7127, 0.6270, 0.6050, 0.7597, 0.7146, 0.6167, 0.7203, 0.6776, 0.6141, 0.7181, 0.6060, 0.5995, 0.7250, 0.6116, 0.6293,\n",
              "        0.7264, 0.7169, 0.6071, 0.5904, 0.6132, 0.5947, 0.6147, 0.7390, 0.7354, 0.6069, 0.7270, 0.7168, 0.6072, 0.6255, 0.7448, 0.5639, 0.7515, 0.6035, 0.7271, 0.6066, 0.7315, 0.6002, 0.6136, 0.6308,\n",
              "        0.6218, 0.5403, 0.6371, 0.5993, 0.6564, 0.7174, 0.6086, 0.7162, 0.6876, 0.6314, 0.6356, 0.7358, 0.6072, 0.6191, 0.6686, 0.6079, 0.7194, 0.6050, 0.6169, 0.6061, 0.6444, 0.7051, 0.6979, 0.6245,\n",
              "        0.6778, 0.6348, 0.7365, 0.6081, 0.7042, 0.6081, 0.7171, 0.6076, 0.7073, 0.7147, 0.6062, 0.6776, 0.6045, 0.6030, 0.6444, 0.7355, 0.6027, 0.5642, 0.6216, 0.6084, 0.6051, 0.5954, 0.7205, 0.7279,\n",
              "        0.7062, 0.7180, 0.6281, 0.6078, 0.6230, 0.6264, 0.7266, 0.6117, 0.7236, 0.7121, 0.7406, 0.6086, 0.6406, 0.6083, 0.6027, 0.6071, 0.5639, 0.6032, 0.7218, 0.6076, 0.6074, 0.6077, 0.7237, 0.7314,\n",
              "        0.5950, 0.6078, 0.5736, 0.6071, 0.7161, 0.6120, 0.6198, 0.5639, 0.7439, 0.6856, 0.5947, 0.7289, 0.6051, 0.6094, 0.6128, 0.6093, 0.7158, 0.6284, 0.6776, 0.7200, 0.7376, 0.5960, 0.6065, 0.6455,\n",
              "        0.5947, 0.6081, 0.6376, 0.6703, 0.5947, 0.6258, 0.6002, 0.6043, 0.7366, 0.6080, 0.6338, 0.6021, 0.5999, 0.6041, 0.6059, 0.6072, 0.6776, 0.7085, 0.6515, 0.6244, 0.6267, 0.7075, 0.6113, 0.5940,\n",
              "        0.6072, 0.6673, 0.7291, 0.6801, 0.6213, 0.6114, 0.6035, 0.6229, 0.6041, 0.5919, 0.6099, 0.6229, 0.7536, 0.6047, 0.7373, 0.6206, 0.6170, 0.6134, 0.7192, 0.6090, 0.5947, 0.7145, 0.6036, 0.6246,\n",
              "        0.6058, 0.5819, 0.6251, 0.5947, 0.6121, 0.5995, 0.6409, 0.7460, 0.6153, 0.7184, 0.6099, 0.6941, 0.6119, 0.7213, 0.7241, 0.6072, 0.6438, 0.6185, 0.7388, 0.6108, 0.7191, 0.6078, 0.5639, 0.7178,\n",
              "        0.6308, 0.7217, 0.7213, 0.6051, 0.7320, 0.7436, 0.6035, 0.7371, 0.7232, 0.5971, 0.6093, 0.7426, 0.5535, 0.5974, 0.7305, 0.7440, 0.7128, 0.6115, 0.6183, 0.6324, 0.5639, 0.5606, 0.7239, 0.7247,\n",
              "        0.6133, 0.7392, 0.6055, 0.5882, 0.5639, 0.6274, 0.6503, 0.7236, 0.6282, 0.5918, 0.6122, 0.7465, 0.5607, 0.7237, 0.6069, 0.5567, 0.7552, 0.6073, 0.7364, 0.6431, 0.6029, 0.6034, 0.6065, 0.6323,\n",
              "        0.6776, 0.7319, 0.6776, 0.7055, 0.7114, 0.6081, 0.7352, 0.5942, 0.6081, 0.6106], grad_fn=<SigmoidBackward0>)"
            ]
          },
          "metadata": {},
          "execution_count": 611
        }
      ]
    },
    {
      "cell_type": "code",
      "source": [
        "def acc(coeffs): return (t_dep.bool()==(calc_preds(coeffs, t_indep)>threshold)).float().mean()\n",
        "acc(coeffs_for_test)"
      ],
      "metadata": {
        "colab": {
          "base_uri": "https://localhost:8080/"
        },
        "id": "QBHzSm5MXt2u",
        "outputId": "4c0a6cb2-ec3a-4d55-b39f-6e7627617e0b"
      },
      "execution_count": 612,
      "outputs": [
        {
          "output_type": "execute_result",
          "data": {
            "text/plain": [
              "tensor(0.9498)"
            ]
          },
          "metadata": {},
          "execution_count": 612
        }
      ]
    },
    {
      "cell_type": "code",
      "source": [],
      "metadata": {
        "id": "StL6uPSZetRr"
      },
      "execution_count": null,
      "outputs": []
    }
  ]
}